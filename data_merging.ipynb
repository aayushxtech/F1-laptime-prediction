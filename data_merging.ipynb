{
 "cells": [
  {
   "cell_type": "code",
   "execution_count": 1,
   "id": "7bc03b86-32d9-4d62-bcb8-c758087ffacd",
   "metadata": {},
   "outputs": [],
   "source": [
    "import pandas as pd\n",
    "import numpy as np\n",
    "import matplotlib.pyplot as plt"
   ]
  },
  {
   "cell_type": "code",
   "execution_count": 2,
   "id": "928371db-bd1e-4a4d-af43-86c541d9846c",
   "metadata": {},
   "outputs": [],
   "source": [
    "meta_df = pd.read_csv(\"ver_laps_silverstone.csv\")"
   ]
  },
  {
   "cell_type": "code",
   "execution_count": 11,
   "id": "0e1a08dd-6f1d-434a-88f3-e49f29841a30",
   "metadata": {},
   "outputs": [],
   "source": [
    "meta_df['LapTime'] = pd.to_timedelta(meta_df['LapTime'])"
   ]
  },
  {
   "cell_type": "code",
   "execution_count": 33,
   "id": "9b4a7dae-cb14-44ce-ac8c-253936bb855a",
   "metadata": {},
   "outputs": [],
   "source": [
    "compound_ohe = pd.get_dummies(meta_df['Compound'].astype(int), prefix='compound')\n",
    "for i in range(5):\n",
    "    col = f'compound_{i}'\n",
    "    if col not in compound_ohe.columns:\n",
    "        compound_ohe[col] = 0\n",
    "compound_ohe = compound_ohe[[f'compound_{i}' for i in range(5)]]\n",
    "\n",
    "meta_df = pd.concat([meta_df, compound_ohe], axis=1)\n"
   ]
  },
  {
   "cell_type": "code",
   "execution_count": 35,
   "id": "45a5782f-9195-472f-a0ee-10dcd085be6d",
   "metadata": {},
   "outputs": [],
   "source": [
    "def normalize(col):\n",
    "    return (col - col.min()) / (col.max() - col.min())"
   ]
  },
  {
   "cell_type": "code",
   "execution_count": 38,
   "id": "a59eb55d-81a4-4ea5-85e2-d2931a18220e",
   "metadata": {},
   "outputs": [],
   "source": [
    "meta_df['TyreLife_norm'] = normalize(meta_df['TyreLife'])\n",
    "meta_df['AirTemp_norm'] = normalize(meta_df['AirTemp'])\n",
    "meta_df['TrackTemp_norm'] = normalize(meta_df['TrackTemp'])"
   ]
  },
  {
   "cell_type": "code",
   "execution_count": 39,
   "id": "5dacb324-18e3-4086-a36f-8772937d3b2a",
   "metadata": {},
   "outputs": [
    {
     "data": {
      "text/html": [
       "<div>\n",
       "<style scoped>\n",
       "    .dataframe tbody tr th:only-of-type {\n",
       "        vertical-align: middle;\n",
       "    }\n",
       "\n",
       "    .dataframe tbody tr th {\n",
       "        vertical-align: top;\n",
       "    }\n",
       "\n",
       "    .dataframe thead th {\n",
       "        text-align: right;\n",
       "    }\n",
       "</style>\n",
       "<table border=\"1\" class=\"dataframe\">\n",
       "  <thead>\n",
       "    <tr style=\"text-align: right;\">\n",
       "      <th></th>\n",
       "      <th>LapTime</th>\n",
       "      <th>LapNumber</th>\n",
       "      <th>Compound</th>\n",
       "      <th>TyreLife</th>\n",
       "      <th>TrackStatus</th>\n",
       "      <th>AirTemp</th>\n",
       "      <th>TrackTemp</th>\n",
       "      <th>Session</th>\n",
       "      <th>Year</th>\n",
       "      <th>track_stat_1</th>\n",
       "      <th>track_stat_12</th>\n",
       "      <th>track_stat_21</th>\n",
       "      <th>compound_0</th>\n",
       "      <th>compound_1</th>\n",
       "      <th>compound_2</th>\n",
       "      <th>compound_3</th>\n",
       "      <th>compound_4</th>\n",
       "      <th>TyreLife_norm</th>\n",
       "      <th>AirTemp_norm</th>\n",
       "      <th>TrackTemp_norm</th>\n",
       "    </tr>\n",
       "  </thead>\n",
       "  <tbody>\n",
       "    <tr>\n",
       "      <th>0</th>\n",
       "      <td>0 days 00:01:30.274000</td>\n",
       "      <td>2.0</td>\n",
       "      <td>2</td>\n",
       "      <td>2.0</td>\n",
       "      <td>1</td>\n",
       "      <td>24.6</td>\n",
       "      <td>43.2</td>\n",
       "      <td>2021 Season Round 10: British Grand Prix - Pra...</td>\n",
       "      <td>2021</td>\n",
       "      <td>True</td>\n",
       "      <td>False</td>\n",
       "      <td>False</td>\n",
       "      <td>False</td>\n",
       "      <td>False</td>\n",
       "      <td>True</td>\n",
       "      <td>False</td>\n",
       "      <td>0</td>\n",
       "      <td>0.000000</td>\n",
       "      <td>0.84375</td>\n",
       "      <td>0.824773</td>\n",
       "    </tr>\n",
       "    <tr>\n",
       "      <th>1</th>\n",
       "      <td>0 days 00:01:30.459000</td>\n",
       "      <td>4.0</td>\n",
       "      <td>2</td>\n",
       "      <td>4.0</td>\n",
       "      <td>1</td>\n",
       "      <td>24.6</td>\n",
       "      <td>46.1</td>\n",
       "      <td>2021 Season Round 10: British Grand Prix - Pra...</td>\n",
       "      <td>2021</td>\n",
       "      <td>True</td>\n",
       "      <td>False</td>\n",
       "      <td>False</td>\n",
       "      <td>False</td>\n",
       "      <td>False</td>\n",
       "      <td>True</td>\n",
       "      <td>False</td>\n",
       "      <td>0</td>\n",
       "      <td>0.066667</td>\n",
       "      <td>0.84375</td>\n",
       "      <td>0.912387</td>\n",
       "    </tr>\n",
       "    <tr>\n",
       "      <th>2</th>\n",
       "      <td>0 days 00:01:28.179000</td>\n",
       "      <td>7.0</td>\n",
       "      <td>1</td>\n",
       "      <td>2.0</td>\n",
       "      <td>1</td>\n",
       "      <td>25.1</td>\n",
       "      <td>43.7</td>\n",
       "      <td>2021 Season Round 10: British Grand Prix - Pra...</td>\n",
       "      <td>2021</td>\n",
       "      <td>True</td>\n",
       "      <td>False</td>\n",
       "      <td>False</td>\n",
       "      <td>False</td>\n",
       "      <td>True</td>\n",
       "      <td>False</td>\n",
       "      <td>False</td>\n",
       "      <td>0</td>\n",
       "      <td>0.000000</td>\n",
       "      <td>0.87500</td>\n",
       "      <td>0.839879</td>\n",
       "    </tr>\n",
       "    <tr>\n",
       "      <th>3</th>\n",
       "      <td>0 days 00:01:27.745000</td>\n",
       "      <td>9.0</td>\n",
       "      <td>1</td>\n",
       "      <td>4.0</td>\n",
       "      <td>1</td>\n",
       "      <td>25.3</td>\n",
       "      <td>45.5</td>\n",
       "      <td>2021 Season Round 10: British Grand Prix - Pra...</td>\n",
       "      <td>2021</td>\n",
       "      <td>True</td>\n",
       "      <td>False</td>\n",
       "      <td>False</td>\n",
       "      <td>False</td>\n",
       "      <td>True</td>\n",
       "      <td>False</td>\n",
       "      <td>False</td>\n",
       "      <td>0</td>\n",
       "      <td>0.066667</td>\n",
       "      <td>0.88750</td>\n",
       "      <td>0.894260</td>\n",
       "    </tr>\n",
       "    <tr>\n",
       "      <th>4</th>\n",
       "      <td>0 days 00:01:27.035000</td>\n",
       "      <td>12.0</td>\n",
       "      <td>0</td>\n",
       "      <td>2.0</td>\n",
       "      <td>1</td>\n",
       "      <td>25.5</td>\n",
       "      <td>47.2</td>\n",
       "      <td>2021 Season Round 10: British Grand Prix - Pra...</td>\n",
       "      <td>2021</td>\n",
       "      <td>True</td>\n",
       "      <td>False</td>\n",
       "      <td>False</td>\n",
       "      <td>True</td>\n",
       "      <td>False</td>\n",
       "      <td>False</td>\n",
       "      <td>False</td>\n",
       "      <td>0</td>\n",
       "      <td>0.000000</td>\n",
       "      <td>0.90000</td>\n",
       "      <td>0.945619</td>\n",
       "    </tr>\n",
       "  </tbody>\n",
       "</table>\n",
       "</div>"
      ],
      "text/plain": [
       "                 LapTime  LapNumber  Compound  TyreLife  TrackStatus  AirTemp  \\\n",
       "0 0 days 00:01:30.274000        2.0         2       2.0            1     24.6   \n",
       "1 0 days 00:01:30.459000        4.0         2       4.0            1     24.6   \n",
       "2 0 days 00:01:28.179000        7.0         1       2.0            1     25.1   \n",
       "3 0 days 00:01:27.745000        9.0         1       4.0            1     25.3   \n",
       "4 0 days 00:01:27.035000       12.0         0       2.0            1     25.5   \n",
       "\n",
       "   TrackTemp                                            Session  Year  \\\n",
       "0       43.2  2021 Season Round 10: British Grand Prix - Pra...  2021   \n",
       "1       46.1  2021 Season Round 10: British Grand Prix - Pra...  2021   \n",
       "2       43.7  2021 Season Round 10: British Grand Prix - Pra...  2021   \n",
       "3       45.5  2021 Season Round 10: British Grand Prix - Pra...  2021   \n",
       "4       47.2  2021 Season Round 10: British Grand Prix - Pra...  2021   \n",
       "\n",
       "   track_stat_1  track_stat_12  track_stat_21  compound_0  compound_1  \\\n",
       "0          True          False          False       False       False   \n",
       "1          True          False          False       False       False   \n",
       "2          True          False          False       False        True   \n",
       "3          True          False          False       False        True   \n",
       "4          True          False          False        True       False   \n",
       "\n",
       "   compound_2  compound_3  compound_4  TyreLife_norm  AirTemp_norm  \\\n",
       "0        True       False           0       0.000000       0.84375   \n",
       "1        True       False           0       0.066667       0.84375   \n",
       "2       False       False           0       0.000000       0.87500   \n",
       "3       False       False           0       0.066667       0.88750   \n",
       "4       False       False           0       0.000000       0.90000   \n",
       "\n",
       "   TrackTemp_norm  \n",
       "0        0.824773  \n",
       "1        0.912387  \n",
       "2        0.839879  \n",
       "3        0.894260  \n",
       "4        0.945619  "
      ]
     },
     "execution_count": 39,
     "metadata": {},
     "output_type": "execute_result"
    }
   ],
   "source": [
    "meta_df.head()"
   ]
  },
  {
   "cell_type": "code",
   "execution_count": 27,
   "id": "20a472de-57df-4b33-bb48-bdc9447ae6af",
   "metadata": {},
   "outputs": [],
   "source": [
    "meta_df = meta_df.drop(columns=['compound_0','compound_1','compound_2', 'compound_3', 'compound_4'])"
   ]
  },
  {
   "cell_type": "code",
   "execution_count": 8,
   "id": "8129bc86-7438-47a1-917d-470b541fc1eb",
   "metadata": {},
   "outputs": [],
   "source": [
    "meta_arr = meta_df.to_numpy()"
   ]
  },
  {
   "cell_type": "code",
   "execution_count": 9,
   "id": "55fd4acb-8551-4c11-8b4b-1b9809590dff",
   "metadata": {},
   "outputs": [
    {
     "data": {
      "text/plain": [
       "(289, 9)"
      ]
     },
     "execution_count": 9,
     "metadata": {},
     "output_type": "execute_result"
    }
   ],
   "source": [
    "meta_arr.shape"
   ]
  },
  {
   "cell_type": "code",
   "execution_count": 52,
   "id": "72469e15-fe7b-4ed7-8bf8-3550b1bec3d7",
   "metadata": {},
   "outputs": [],
   "source": [
    "x = meta_df.drop(columns=[\n",
    "    'LapTime',\n",
    "    'LapNumber',\n",
    "    'Compound',\n",
    "    'TyreLife',\n",
    "    'TrackStatus',\n",
    "    'AirTemp',\n",
    "    'TrackTemp',\n",
    "    'Session',\n",
    "    'Year']).to_numpy()"
   ]
  },
  {
   "cell_type": "code",
   "execution_count": 54,
   "id": "e4a254ab-f363-4dd8-becd-d0e77b9f1a19",
   "metadata": {},
   "outputs": [
    {
     "data": {
      "text/plain": [
       "array([[True, False, False, ..., 0.0, 0.8437500000000001,\n",
       "        0.8247734138972811],\n",
       "       [True, False, False, ..., 0.06666666666666667, 0.8437500000000001,\n",
       "        0.9123867069486405],\n",
       "       [True, False, False, ..., 0.0, 0.8750000000000001,\n",
       "        0.83987915407855],\n",
       "       ...,\n",
       "       [True, False, False, ..., 0.23333333333333334, 0.50625,\n",
       "        0.2567975830815709],\n",
       "       [True, False, False, ..., 0.26666666666666666, 0.5187499999999999,\n",
       "        0.2567975830815709],\n",
       "       [True, False, False, ..., 0.3, 0.525, 0.2628398791540786]],\n",
       "      shape=(289, 11), dtype=object)"
      ]
     },
     "execution_count": 54,
     "metadata": {},
     "output_type": "execute_result"
    }
   ],
   "source": [
    "x"
   ]
  },
  {
   "cell_type": "code",
   "execution_count": 42,
   "id": "2dd39be1-a47c-43d2-a56e-49d46e01eade",
   "metadata": {},
   "outputs": [],
   "source": [
    "y = meta_df['LapTime'].dt.total_seconds().to_numpy()"
   ]
  },
  {
   "cell_type": "code",
   "execution_count": 44,
   "id": "28038de2-7b21-4c5e-95e8-c18067a919ba",
   "metadata": {},
   "outputs": [
    {
     "data": {
      "text/plain": [
       "array([ 90.274,  90.459,  88.179,  87.745,  87.035,  92.76 ,  92.414,\n",
       "        92.641,  92.793,  92.405,  92.321,  90.428,  91.642,  91.351,\n",
       "        91.3  ,  91.236,  91.068,  91.178,  93.699,  90.822,  90.404,\n",
       "        89.902,  91.685,  92.445,  92.088,  91.787,  91.707,  91.624,\n",
       "        86.751,  86.504,  86.315,  86.306,  86.209,  91.438,  90.488,\n",
       "        89.885,  89.149,  94.789,  93.226,  93.611,  93.592,  88.541,\n",
       "        88.498,  88.386,  87.901,  87.984, 105.743, 102.814, 100.452,\n",
       "        99.975,  99.129, 101.486, 100.655, 104.887, 102.996, 101.055,\n",
       "       101.145,  93.807,  93.489,  93.539,  93.762,  93.451,  93.606,\n",
       "        93.486,  93.632,  94.388,  94.806,  95.015,  94.994,  94.973,\n",
       "        94.996,  94.87 ,  94.963,  94.826,  95.405,  94.441,  94.67 ,\n",
       "        94.482,  94.404,  94.488,  94.171,  94.415,  94.503,  94.21 ,\n",
       "        94.068,  94.924,  94.023,  93.322,  92.354,  92.135,  92.516,\n",
       "        92.584,  92.566,  92.964,  93.051,  92.858,  93.581,  90.443,\n",
       "        89.863,  93.487,  93.381,  93.57 ,  93.52 ,  93.801,  93.564,\n",
       "        93.194,  88.836,  88.6  ,  89.55 ,  88.078,  93.003,  93.121,\n",
       "        93.338,  93.454,  93.878,  93.718,  93.158,  93.057,  93.007,\n",
       "        88.836,  88.266,  93.915,  93.715,  93.494,  92.145,  90.719,\n",
       "        89.428,  89.505,  88.57 ,  87.702,  87.084,  86.72 ,  93.433,\n",
       "        92.73 ,  92.78 ,  92.582,  93.027,  93.1  ,  92.884,  92.822,\n",
       "        92.594,  92.597,  92.687,  92.678,  93.046,  92.99 ,  92.808,\n",
       "        92.603,  92.507,  92.338,  92.295,  92.494,  92.184,  92.272,\n",
       "        92.35 ,  92.295,  92.276,  92.138,  92.215,  92.251,  92.363,\n",
       "        92.388,  92.21 ,  90.348,  90.547,  90.688,  90.275,  90.535,\n",
       "        90.648,  91.342,  91.114,  91.148,  91.4  ,  91.218,  91.292,\n",
       "        91.397,  90.975,  89.906,  89.049,  88.37 ,  87.764,  87.729,\n",
       "        92.417,  92.513,  92.357,  92.113,  92.368,  92.485,  91.775,\n",
       "        91.621,  87.831,  87.233,  92.009,  91.972,  92.059,  91.972,\n",
       "        92.171,  91.673,  92.035,  92.411, 101.7  , 100.319,  98.812,\n",
       "       103.929,  98.393,  99.952,  99.23 ,  99.486,  99.49 ,  91.832,\n",
       "        91.342,  87.799,  87.366,  86.796,  86.35 ,  86.203,  91.773,\n",
       "        92.2  ,  91.933,  91.778,  91.711,  91.935,  92.038,  91.883,\n",
       "        91.661,  91.81 ,  91.894,  91.759,  91.7  ,  92.249,  92.504,\n",
       "        93.488,  91.904,  92.143,  93.02 ,  90.056,  89.604,  89.472,\n",
       "        89.105,  89.372,  89.137,  89.543,  89.411,  88.952,  89.56 ,\n",
       "        89.286,  89.443,  89.089,  88.968,  88.497,  88.168,  87.603,\n",
       "        87.432,  92.504,  92.881,  93.215,  92.384,  92.603,  92.811,\n",
       "        92.805,  92.686,  87.339,  87.384,  86.611,  86.314,  91.499,\n",
       "        92.016,  92.161,  91.945,  91.615,  86.499,  86.166,  86.145,\n",
       "        85.585,  86.041,  85.886,  85.316,  85.397,  85.267,  84.892,\n",
       "        95.165,  93.844,  92.96 ,  91.712,  90.776,  90.179,  90.29 ,\n",
       "        90.973,  91.389])"
      ]
     },
     "execution_count": 44,
     "metadata": {},
     "output_type": "execute_result"
    }
   ],
   "source": [
    "y"
   ]
  },
  {
   "cell_type": "markdown",
   "id": "746ee4cb-18be-40a1-a0b9-7983cb9fa9b1",
   "metadata": {},
   "source": [
    "x_telemetry = np.load('ver_silverstone_telemetry_data.npy', allow_pickle = True)"
   ]
  },
  {
   "cell_type": "code",
   "execution_count": 57,
   "id": "ebaebe4d-2ef6-44d9-887d-bef9ad3dbacf",
   "metadata": {},
   "outputs": [
    {
     "data": {
      "text/plain": [
       "(289, 150, 3)"
      ]
     },
     "execution_count": 57,
     "metadata": {},
     "output_type": "execute_result"
    }
   ],
   "source": [
    "x_telemetry.shape"
   ]
  },
  {
   "cell_type": "code",
   "execution_count": 58,
   "id": "e065a93d-ad4e-4cd1-bd79-f59c01cca22c",
   "metadata": {},
   "outputs": [
    {
     "name": "stderr",
     "output_type": "stream",
     "text": [
      "Appending metadata: 100%|█████████████████████████████████████████████████████████████████████████████████████████████| 289/289 [00:00<00:00, 12283.06it/s]\n"
     ]
    }
   ],
   "source": [
    "from tqdm import tqdm\n",
    "num_laps, time_steps, telemetry_features = x_telemetry.shape\n",
    "meta_features = x.shape[1]\n",
    "\n",
    "x_combined = np.zeros((num_laps, time_steps, telemetry_features + meta_features))\n",
    "\n",
    "for i in tqdm(range(num_laps), desc=\"Appending metadata\"):\n",
    "    telemetry = x_telemetry[i]\n",
    "    meta = x[i]\n",
    "\n",
    "    meta_repeated = np.tile(meta, (time_steps, 1))\n",
    "\n",
    "    x_combined[i] = np.concatenate([telemetry, meta_repeated], axis=1)"
   ]
  },
  {
   "cell_type": "code",
   "execution_count": 59,
   "id": "64c5b83b-5519-4714-a511-6a06d9f02eb3",
   "metadata": {},
   "outputs": [
    {
     "data": {
      "text/plain": [
       "(289, 150, 14)"
      ]
     },
     "execution_count": 59,
     "metadata": {},
     "output_type": "execute_result"
    }
   ],
   "source": [
    "x_combined.shape"
   ]
  },
  {
   "cell_type": "code",
   "execution_count": 60,
   "id": "8e2fb3a1-45f3-46a5-b3f5-cd7bee171262",
   "metadata": {},
   "outputs": [],
   "source": [
    "np.save('x_combined.npy', x_combined)\n",
    "np.save('y.npy', y)"
   ]
  }
 ],
 "metadata": {
  "kernelspec": {
   "display_name": "Python 3 (ipykernel)",
   "language": "python",
   "name": "python3"
  },
  "language_info": {
   "codemirror_mode": {
    "name": "ipython",
    "version": 3
   },
   "file_extension": ".py",
   "mimetype": "text/x-python",
   "name": "python",
   "nbconvert_exporter": "python",
   "pygments_lexer": "ipython3",
   "version": "3.13.5"
  }
 },
 "nbformat": 4,
 "nbformat_minor": 5
}
